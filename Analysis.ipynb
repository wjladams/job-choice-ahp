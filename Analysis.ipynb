{
 "cells": [
  {
   "cell_type": "markdown",
   "metadata": {
    "toc": true
   },
   "source": [
    "<h1>Table of Contents<span class=\"tocSkip\"></span></h1>\n",
    "<div class=\"toc\"><ul class=\"toc-item\"><li><span><a href=\"#Introduction\" data-toc-modified-id=\"Introduction-1\"><span class=\"toc-item-num\">1&nbsp;&nbsp;</span>Introduction</a></span><ul class=\"toc-item\"><li><span><a href=\"#Install-and-load-necessary-libraries\" data-toc-modified-id=\"Install-and-load-necessary-libraries-1.1\"><span class=\"toc-item-num\">1.1&nbsp;&nbsp;</span>Install and load necessary libraries</a></span></li></ul></li><li><span><a href=\"#Create-our-AHP-Tree\" data-toc-modified-id=\"Create-our-AHP-Tree-2\"><span class=\"toc-item-num\">2&nbsp;&nbsp;</span>Create our AHP Tree</a></span></li><li><span><a href=\"#Some-basic-analysis\" data-toc-modified-id=\"Some-basic-analysis-3\"><span class=\"toc-item-num\">3&nbsp;&nbsp;</span>Some basic analysis</a></span></li></ul></div>"
   ]
  },
  {
   "cell_type": "markdown",
   "metadata": {},
   "source": [
    "# Introduction"
   ]
  },
  {
   "cell_type": "markdown",
   "metadata": {},
   "source": [
    "This [Jupyter](https://jupyter.org) notebook performs the analysis of Dr. Bill Adams' and Dr. Jay Stryker consumer choice AHP model for cell phones (see [github.com/wjladams/consumerAHP](https://github.com/wjladams/consumerAHP))"
   ]
  },
  {
   "cell_type": "markdown",
   "metadata": {},
   "source": [
    "## Install and load necessary libraries"
   ]
  },
  {
   "cell_type": "code",
   "execution_count": null,
   "metadata": {},
   "outputs": [],
   "source": [
    "%pip install pyanp"
   ]
  },
  {
   "cell_type": "code",
   "execution_count": 1,
   "metadata": {},
   "outputs": [
    {
     "name": "stderr",
     "output_type": "stream",
     "text": [
      "/Users/wjadams/Documents/GitHub/job-choice-ahp/helpers.py:66: SyntaxWarning: \"is\" with a literal. Did you mean \"==\"?\n",
      "  if (vote is None) or np.isreal(vote) or (vote is \"\"):\n"
     ]
    }
   ],
   "source": [
    "from pyanp import ahptree\n",
    "import numpy as np\n",
    "import pandas as pd\n",
    "import re\n",
    "from copy import deepcopy\n",
    "from helpers import *\n",
    "import matplotlib.pyplot as plt"
   ]
  },
  {
   "cell_type": "code",
   "execution_count": 2,
   "metadata": {},
   "outputs": [],
   "source": [
    "%matplotlib inline"
   ]
  },
  {
   "cell_type": "code",
   "execution_count": 3,
   "metadata": {},
   "outputs": [],
   "source": [
    "plt.rcParams[\"figure.figsize\"] = (12,7)"
   ]
  },
  {
   "cell_type": "markdown",
   "metadata": {},
   "source": [
    "# Create our AHP Tree"
   ]
  },
  {
   "cell_type": "code",
   "execution_count": 7,
   "metadata": {},
   "outputs": [
    {
     "data": {
      "text/html": [
       "<div>\n",
       "<style scoped>\n",
       "    .dataframe tbody tr th:only-of-type {\n",
       "        vertical-align: middle;\n",
       "    }\n",
       "\n",
       "    .dataframe tbody tr th {\n",
       "        vertical-align: top;\n",
       "    }\n",
       "\n",
       "    .dataframe thead th {\n",
       "        text-align: right;\n",
       "    }\n",
       "</style>\n",
       "<table border=\"1\" class=\"dataframe\">\n",
       "  <thead>\n",
       "    <tr style=\"text-align: right;\">\n",
       "      <th></th>\n",
       "      <th>Timestamp</th>\n",
       "      <th>Considering: Work/life balance</th>\n",
       "      <th>Considering: Relationships with coworkers and management</th>\n",
       "      <th>Considering: Salary</th>\n",
       "      <th>Considering: Professional fulfillment</th>\n",
       "      <th>Considering: Work/life balance versus Relationships with coworkers and management</th>\n",
       "      <th>Considering: Relationships with coworkers and management versus Salary</th>\n",
       "      <th>Considering: Salary versus Professional fulfillment</th>\n",
       "      <th>Considering: Work/life balance versus Salary</th>\n",
       "      <th>Considering: Relationships with coworkers and management versus Professional fulfillment</th>\n",
       "      <th>Considering: Work/life balance versus Professional fulfillment</th>\n",
       "      <th>Name</th>\n",
       "      <th>Age</th>\n",
       "      <th>Location</th>\n",
       "    </tr>\n",
       "  </thead>\n",
       "  <tbody>\n",
       "    <tr>\n",
       "      <th>0</th>\n",
       "      <td>3/14/2021 15:14:42</td>\n",
       "      <td>A Possible New Job is better</td>\n",
       "      <td>My Current Job is better</td>\n",
       "      <td>A Possible New Job is much better</td>\n",
       "      <td>A Possible New Job is better</td>\n",
       "      <td>Work/life balance is much more important</td>\n",
       "      <td>Salary is more important</td>\n",
       "      <td>Professional fulfillment is more important</td>\n",
       "      <td>Salary is more important</td>\n",
       "      <td>Professional fulfillment is more important</td>\n",
       "      <td>Work/life balance is more important</td>\n",
       "      <td>Phil</td>\n",
       "      <td>20-29</td>\n",
       "      <td>Central America</td>\n",
       "    </tr>\n",
       "    <tr>\n",
       "      <th>1</th>\n",
       "      <td>3/14/2021 16:40:35</td>\n",
       "      <td>My Current Job is much better</td>\n",
       "      <td>A Possible New Job is better</td>\n",
       "      <td>They are basically equal</td>\n",
       "      <td>A Possible New Job is much better</td>\n",
       "      <td>Work/life balance is much more important</td>\n",
       "      <td>Salary is more important</td>\n",
       "      <td>Salary is more important</td>\n",
       "      <td>Work/life balance is much more important</td>\n",
       "      <td>Professional fulfillment is more important</td>\n",
       "      <td>Professional fulfillment is much more important</td>\n",
       "      <td>John</td>\n",
       "      <td>Under 20</td>\n",
       "      <td>South America</td>\n",
       "    </tr>\n",
       "    <tr>\n",
       "      <th>2</th>\n",
       "      <td>3/14/2021 18:03:27</td>\n",
       "      <td>My Current Job is much better</td>\n",
       "      <td>My Current Job is much better</td>\n",
       "      <td>A Possible New Job is better</td>\n",
       "      <td>A Possible New Job is much better</td>\n",
       "      <td>Work/life balance is much more important</td>\n",
       "      <td>Relationships with coworkers and management is...</td>\n",
       "      <td>Salary is more important</td>\n",
       "      <td>Work/life balance is much more important</td>\n",
       "      <td>Relationships with coworkers and management is...</td>\n",
       "      <td>Work/life balance is more important</td>\n",
       "      <td>Silly String</td>\n",
       "      <td>Under 20</td>\n",
       "      <td>Oceania</td>\n",
       "    </tr>\n",
       "  </tbody>\n",
       "</table>\n",
       "</div>"
      ],
      "text/plain": [
       "            Timestamp Considering: Work/life balance  \\\n",
       "0  3/14/2021 15:14:42   A Possible New Job is better   \n",
       "1  3/14/2021 16:40:35  My Current Job is much better   \n",
       "2  3/14/2021 18:03:27  My Current Job is much better   \n",
       "\n",
       "  Considering: Relationships with coworkers and management  \\\n",
       "0                           My Current Job is better         \n",
       "1                       A Possible New Job is better         \n",
       "2                      My Current Job is much better         \n",
       "\n",
       "                 Considering: Salary Considering: Professional fulfillment  \\\n",
       "0  A Possible New Job is much better          A Possible New Job is better   \n",
       "1           They are basically equal     A Possible New Job is much better   \n",
       "2       A Possible New Job is better     A Possible New Job is much better   \n",
       "\n",
       "  Considering: Work/life balance versus Relationships with coworkers and management  \\\n",
       "0           Work/life balance is much more important                                  \n",
       "1           Work/life balance is much more important                                  \n",
       "2           Work/life balance is much more important                                  \n",
       "\n",
       "  Considering: Relationships with coworkers and management versus Salary  \\\n",
       "0                           Salary is more important                       \n",
       "1                           Salary is more important                       \n",
       "2  Relationships with coworkers and management is...                       \n",
       "\n",
       "  Considering: Salary versus Professional fulfillment  \\\n",
       "0         Professional fulfillment is more important    \n",
       "1                           Salary is more important    \n",
       "2                           Salary is more important    \n",
       "\n",
       "  Considering: Work/life balance versus Salary  \\\n",
       "0                     Salary is more important   \n",
       "1     Work/life balance is much more important   \n",
       "2     Work/life balance is much more important   \n",
       "\n",
       "  Considering: Relationships with coworkers and management versus Professional fulfillment  \\\n",
       "0         Professional fulfillment is more important                                         \n",
       "1         Professional fulfillment is more important                                         \n",
       "2  Relationships with coworkers and management is...                                         \n",
       "\n",
       "  Considering: Work/life balance versus Professional fulfillment  \\\n",
       "0                Work/life balance is more important               \n",
       "1    Professional fulfillment is much more important               \n",
       "2                Work/life balance is more important               \n",
       "\n",
       "           Name       Age         Location  \n",
       "0          Phil     20-29  Central America  \n",
       "1          John  Under 20    South America  \n",
       "2  Silly String  Under 20          Oceania  "
      ]
     },
     "execution_count": 7,
     "metadata": {},
     "output_type": "execute_result"
    }
   ],
   "source": [
    "from io import BytesIO\n",
    "\n",
    "import requests\n",
    "r = requests.get('https://docs.google.com/spreadsheet/ccc?key=1oLTZ2RBfms0jkvMR0dg1_A6TEs8KipXdma_XyUIcF4o&output=csv')\n",
    "#r = requests.get('https://docs.google.com/spreadsheet/ccc?key=1jxuBHUYA8Jy5iSRx2PZ7lNg0Ag2gf-cC63LoCCru-j4&output=csv')\n",
    "data = r.content\n",
    "df = pd.read_csv(BytesIO(data))\n",
    "df.tail()"
   ]
  },
  {
   "cell_type": "markdown",
   "metadata": {},
   "source": [
    "* We need to convert the votes"
   ]
  },
  {
   "cell_type": "code",
   "execution_count": 8,
   "metadata": {},
   "outputs": [
    {
     "data": {
      "text/html": [
       "<div>\n",
       "<style scoped>\n",
       "    .dataframe tbody tr th:only-of-type {\n",
       "        vertical-align: middle;\n",
       "    }\n",
       "\n",
       "    .dataframe tbody tr th {\n",
       "        vertical-align: top;\n",
       "    }\n",
       "\n",
       "    .dataframe thead th {\n",
       "        text-align: right;\n",
       "    }\n",
       "</style>\n",
       "<table border=\"1\" class=\"dataframe\">\n",
       "  <thead>\n",
       "    <tr style=\"text-align: right;\">\n",
       "      <th></th>\n",
       "      <th>Timestamp</th>\n",
       "      <th>My Current Job vsA Possible New Job wrt Work/life balance</th>\n",
       "      <th>My Current Job vs A Possible New Job wrt Relationships with coworkers and management</th>\n",
       "      <th>My Current Job vs A Possible New Job wrt Salary</th>\n",
       "      <th>My Current Job vs A Possible New Job wrt Professional fulfillment</th>\n",
       "      <th>Work/life balance vs Relationships with coworkers and management</th>\n",
       "      <th>Relationships with coworkers and management vs Salary</th>\n",
       "      <th>Salary vs Professional fulfillment</th>\n",
       "      <th>Work/life balance vs Salary</th>\n",
       "      <th>Relationships with coworkers and management vs Professional fulfillment</th>\n",
       "      <th>Work/life balance vs Professional fulfillment</th>\n",
       "      <th>Name</th>\n",
       "      <th>Age</th>\n",
       "      <th>Location</th>\n",
       "    </tr>\n",
       "  </thead>\n",
       "  <tbody>\n",
       "    <tr>\n",
       "      <th>0</th>\n",
       "      <td>3/14/2021 15:14:42</td>\n",
       "      <td>A Possible New Job is better</td>\n",
       "      <td>2.0</td>\n",
       "      <td>0.2</td>\n",
       "      <td>0.5</td>\n",
       "      <td>5.0</td>\n",
       "      <td>0.5</td>\n",
       "      <td>0.5</td>\n",
       "      <td>0.5</td>\n",
       "      <td>0.5</td>\n",
       "      <td>2.0</td>\n",
       "      <td>Phil</td>\n",
       "      <td>20-29</td>\n",
       "      <td>Central America</td>\n",
       "    </tr>\n",
       "    <tr>\n",
       "      <th>1</th>\n",
       "      <td>3/14/2021 16:40:35</td>\n",
       "      <td>My Current Job is much better</td>\n",
       "      <td>0.5</td>\n",
       "      <td>1</td>\n",
       "      <td>0.2</td>\n",
       "      <td>5.0</td>\n",
       "      <td>0.5</td>\n",
       "      <td>2.0</td>\n",
       "      <td>5.0</td>\n",
       "      <td>0.5</td>\n",
       "      <td>0.2</td>\n",
       "      <td>John</td>\n",
       "      <td>Under 20</td>\n",
       "      <td>South America</td>\n",
       "    </tr>\n",
       "    <tr>\n",
       "      <th>2</th>\n",
       "      <td>3/14/2021 18:03:27</td>\n",
       "      <td>My Current Job is much better</td>\n",
       "      <td>5.0</td>\n",
       "      <td>0.5</td>\n",
       "      <td>0.2</td>\n",
       "      <td>5.0</td>\n",
       "      <td>5.0</td>\n",
       "      <td>2.0</td>\n",
       "      <td>5.0</td>\n",
       "      <td>2.0</td>\n",
       "      <td>2.0</td>\n",
       "      <td>Silly String</td>\n",
       "      <td>Under 20</td>\n",
       "      <td>Oceania</td>\n",
       "    </tr>\n",
       "  </tbody>\n",
       "</table>\n",
       "</div>"
      ],
      "text/plain": [
       "            Timestamp  \\\n",
       "0  3/14/2021 15:14:42   \n",
       "1  3/14/2021 16:40:35   \n",
       "2  3/14/2021 18:03:27   \n",
       "\n",
       "  My Current Job vsA Possible New Job wrt Work/life balance  \\\n",
       "0                       A Possible New Job is better          \n",
       "1                      My Current Job is much better          \n",
       "2                      My Current Job is much better          \n",
       "\n",
       "  My Current Job vs A Possible New Job wrt Relationships with coworkers and management  \\\n",
       "0                                                2.0                                     \n",
       "1                                                0.5                                     \n",
       "2                                                5.0                                     \n",
       "\n",
       "  My Current Job vs A Possible New Job wrt Salary  \\\n",
       "0                                             0.2   \n",
       "1                                               1   \n",
       "2                                             0.5   \n",
       "\n",
       "  My Current Job vs A Possible New Job wrt Professional fulfillment  \\\n",
       "0                                                0.5                  \n",
       "1                                                0.2                  \n",
       "2                                                0.2                  \n",
       "\n",
       "  Work/life balance vs Relationships with coworkers and management  \\\n",
       "0                                                5.0                 \n",
       "1                                                5.0                 \n",
       "2                                                5.0                 \n",
       "\n",
       "  Relationships with coworkers and management vs Salary  \\\n",
       "0                                                0.5      \n",
       "1                                                0.5      \n",
       "2                                                5.0      \n",
       "\n",
       "  Salary vs Professional fulfillment Work/life balance vs Salary  \\\n",
       "0                                0.5                         0.5   \n",
       "1                                2.0                         5.0   \n",
       "2                                2.0                         5.0   \n",
       "\n",
       "  Relationships with coworkers and management vs Professional fulfillment  \\\n",
       "0                                                0.5                        \n",
       "1                                                0.5                        \n",
       "2                                                2.0                        \n",
       "\n",
       "  Work/life balance vs Professional fulfillment          Name       Age  \\\n",
       "0                                           2.0          Phil     20-29   \n",
       "1                                           0.2          John  Under 20   \n",
       "2                                           2.0  Silly String  Under 20   \n",
       "\n",
       "          Location  \n",
       "0  Central America  \n",
       "1    South America  \n",
       "2          Oceania  "
      ]
     },
     "execution_count": 8,
     "metadata": {},
     "output_type": "execute_result"
    }
   ],
   "source": [
    "vs = \" vs \"\n",
    "a1 = 'My Current Job'\n",
    "a2 = 'A Possible New Job'\n",
    "n1 = 'Work/life balance'\n",
    "n2 = 'Relationships with coworkers and management'\n",
    "n3 = 'Salary'\n",
    "n4 = 'Professional fulfillment'\n",
    "df.rename(columns = {\n",
    "    'Considering: Work/life balance':a1+vs+ a2+ \" wrt Work/life balance\",\n",
    "    'Considering: Relationships with coworkers and management':a1+vs+a2+\" wrt Relationships with coworkers and management\",\n",
    "    'Considering: Salary':a1+vs+a2+\" wrt Salary\",\n",
    "    'Considering: Professional fulfillment':a1+vs+a2+\" wrt Professional fulfillment\",\n",
    "    'Considering: Work/life balance versus Relationships with coworkers and management':n1+vs+n2,\n",
    "    'Considering: Relationships with coworkers and management versus Salary':n2+vs+n3,\n",
    "    'Considering: Salary versus Professional fulfillment':n3+vs+n4,\n",
    "    'Considering: Work/life balance versus Salary':n1+vs+n3,\n",
    "    'Considering: Relationships with coworkers and management versus Professional fulfillment':n2+\" vs \"+n4,\n",
    "    'Considering: Work/life balance versus Professional fulfillment':n1+\" vs \"+n4,\n",
    "}, inplace = True)\n",
    "for col in df.columns:\n",
    "    if re.search(r'\\s+vs\\s+',col):\n",
    "        df[col] = betterScaleDataToNumeric(col, df[col])\n",
    "df"
   ]
  },
  {
   "cell_type": "code",
   "execution_count": 6,
   "metadata": {},
   "outputs": [
    {
     "ename": "TypeError",
     "evalue": "ufunc 'isnan' not supported for the input types, and the inputs could not be safely coerced to any supported types according to the casting rule ''safe''",
     "output_type": "error",
     "traceback": [
      "\u001b[0;31m---------------------------------------------------------------------------\u001b[0m",
      "\u001b[0;31mTypeError\u001b[0m                                 Traceback (most recent call last)",
      "\u001b[0;32m<ipython-input-6-f6993cba076e>\u001b[0m in \u001b[0;36m<module>\u001b[0;34m\u001b[0m\n\u001b[0;32m----> 1\u001b[0;31m \u001b[0mahp\u001b[0m \u001b[0;34m=\u001b[0m \u001b[0mahptree\u001b[0m\u001b[0;34m.\u001b[0m\u001b[0mahptree_fromdf\u001b[0m\u001b[0;34m(\u001b[0m\u001b[0mdf\u001b[0m\u001b[0;34m)\u001b[0m\u001b[0;34m\u001b[0m\u001b[0;34m\u001b[0m\u001b[0m\n\u001b[0m\u001b[1;32m      2\u001b[0m \u001b[0mahp\u001b[0m\u001b[0;34m\u001b[0m\u001b[0;34m\u001b[0m\u001b[0m\n",
      "\u001b[0;32m~/Documents/GitHub/pyanp-mrsens/pyanp/ahptree.py\u001b[0m in \u001b[0;36mahptree_fromdf\u001b[0;34m(colinfos, currentAHPTree, currentNode)\u001b[0m\n\u001b[1;32m    867\u001b[0m                 \u001b[0;32mfor\u001b[0m \u001b[0muser\u001b[0m \u001b[0;32min\u001b[0m \u001b[0mcolseries\u001b[0m\u001b[0;34m.\u001b[0m\u001b[0mindex\u001b[0m\u001b[0;34m:\u001b[0m\u001b[0;34m\u001b[0m\u001b[0;34m\u001b[0m\u001b[0m\n\u001b[1;32m    868\u001b[0m                     \u001b[0mval\u001b[0m \u001b[0;34m=\u001b[0m \u001b[0mcolseries\u001b[0m\u001b[0;34m[\u001b[0m\u001b[0muser\u001b[0m\u001b[0;34m]\u001b[0m\u001b[0;34m\u001b[0m\u001b[0;34m\u001b[0m\u001b[0m\n\u001b[0;32m--> 869\u001b[0;31m                     \u001b[0;32mif\u001b[0m \u001b[0;32mnot\u001b[0m \u001b[0mnp\u001b[0m\u001b[0;34m.\u001b[0m\u001b[0misnan\u001b[0m\u001b[0;34m(\u001b[0m\u001b[0mval\u001b[0m\u001b[0;34m)\u001b[0m\u001b[0;34m:\u001b[0m\u001b[0;34m\u001b[0m\u001b[0;34m\u001b[0m\u001b[0m\n\u001b[0m\u001b[1;32m    870\u001b[0m                         \u001b[0mcurrentAHPTree\u001b[0m\u001b[0;34m.\u001b[0m\u001b[0malt_direct\u001b[0m\u001b[0;34m(\u001b[0m\u001b[0mwrt\u001b[0m\u001b[0;34m,\u001b[0m \u001b[0mnode\u001b[0m\u001b[0;34m,\u001b[0m \u001b[0mval\u001b[0m\u001b[0;34m)\u001b[0m\u001b[0;34m\u001b[0m\u001b[0;34m\u001b[0m\u001b[0m\n\u001b[1;32m    871\u001b[0m     \u001b[0;32mreturn\u001b[0m \u001b[0mcurrentAHPTree\u001b[0m\u001b[0;34m\u001b[0m\u001b[0;34m\u001b[0m\u001b[0m\n",
      "\u001b[0;31mTypeError\u001b[0m: ufunc 'isnan' not supported for the input types, and the inputs could not be safely coerced to any supported types according to the casting rule ''safe''"
     ]
    }
   ],
   "source": [
    "ahp = ahptree.ahptree_fromdf(df)\n",
    "ahp"
   ]
  },
  {
   "cell_type": "markdown",
   "metadata": {},
   "source": [
    "# Some basic analysis"
   ]
  },
  {
   "cell_type": "code",
   "execution_count": null,
   "metadata": {},
   "outputs": [],
   "source": [
    "altscores = ahp.priority_table()\n",
    "altscores.plot(kind=\"bar\")"
   ]
  },
  {
   "cell_type": "code",
   "execution_count": null,
   "metadata": {},
   "outputs": [],
   "source": []
  }
 ],
 "metadata": {
  "kernelspec": {
   "display_name": "Python 3",
   "language": "python",
   "name": "python3"
  },
  "language_info": {
   "codemirror_mode": {
    "name": "ipython",
    "version": 3
   },
   "file_extension": ".py",
   "mimetype": "text/x-python",
   "name": "python",
   "nbconvert_exporter": "python",
   "pygments_lexer": "ipython3",
   "version": "3.8.5"
  },
  "toc": {
   "base_numbering": 1,
   "nav_menu": {},
   "number_sections": true,
   "sideBar": true,
   "skip_h1_title": false,
   "title_cell": "Table of Contents",
   "title_sidebar": "Contents",
   "toc_cell": true,
   "toc_position": {},
   "toc_section_display": true,
   "toc_window_display": false
  }
 },
 "nbformat": 4,
 "nbformat_minor": 2
}
